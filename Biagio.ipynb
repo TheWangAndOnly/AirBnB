{
 "cells": [
  {
   "cell_type": "markdown",
   "id": "145c1b2c",
   "metadata": {
    "heading_collapsed": true
   },
   "source": [
    "## Imports"
   ]
  },
  {
   "cell_type": "code",
   "execution_count": 4,
   "id": "b15e6370",
   "metadata": {
    "hidden": true
   },
   "outputs": [],
   "source": [
    "import numpy as np\n",
    "import pandas as pd\n",
    "import matplotlib.pyplot as plt\n",
    "import seaborn as sns\n",
    "import requests\n",
    "\n",
    "# Preprocessing\n",
    "from sklearn.impute import SimpleImputer, KNNImputer\n",
    "from sklearn.preprocessing import RobustScaler, StandardScaler, MinMaxScaler, QuantileTransformer, OneHotEncoder, FunctionTransformer\n",
    "\n",
    "# Models\n",
    "from sklearn.linear_model import Ridge\n",
    "from sklearn.model_selection import cross_val_score\n",
    "\n",
    "# Pipeline\n",
    "from sklearn.pipeline import Pipeline\n",
    "from sklearn.compose import ColumnTransformer, make_column_selector\n",
    "from sklearn import set_config; set_config(display='diagram')\n",
    "\n",
    "# Custom Transformer \n",
    "from sklearn.base import TransformerMixin, BaseEstimator\n",
    "\n",
    "# Metrics\n",
    "from sklearn.metrics import make_scorer, mean_squared_error"
   ]
  },
  {
   "cell_type": "markdown",
   "id": "6d64a3c9",
   "metadata": {
    "heading_collapsed": true
   },
   "source": [
    "## First Look"
   ]
  },
  {
   "cell_type": "code",
   "execution_count": 134,
   "id": "4682b9c5",
   "metadata": {
    "hidden": true,
    "scrolled": false
   },
   "outputs": [
    {
     "name": "stderr",
     "output_type": "stream",
     "text": [
      "/home/biagio/.pyenv/versions/3.8.6/envs/lewagon/lib/python3.8/site-packages/IPython/core/interactiveshell.py:3165: DtypeWarning: Columns (4) have mixed types.Specify dtype option on import or set low_memory=False.\n",
      "  has_raised = await self.run_ast_nodes(code_ast.body, cell_name,\n"
     ]
    },
    {
     "data": {
      "text/html": [
       "<div>\n",
       "<style scoped>\n",
       "    .dataframe tbody tr th:only-of-type {\n",
       "        vertical-align: middle;\n",
       "    }\n",
       "\n",
       "    .dataframe tbody tr th {\n",
       "        vertical-align: top;\n",
       "    }\n",
       "\n",
       "    .dataframe thead th {\n",
       "        text-align: right;\n",
       "    }\n",
       "</style>\n",
       "<table border=\"1\" class=\"dataframe\">\n",
       "  <thead>\n",
       "    <tr style=\"text-align: right;\">\n",
       "      <th></th>\n",
       "      <th>id</th>\n",
       "      <th>name</th>\n",
       "      <th>host_id</th>\n",
       "      <th>host_name</th>\n",
       "      <th>neighbourhood_group</th>\n",
       "      <th>neighbourhood</th>\n",
       "      <th>latitude</th>\n",
       "      <th>longitude</th>\n",
       "      <th>room_type</th>\n",
       "      <th>price</th>\n",
       "      <th>minimum_nights</th>\n",
       "      <th>number_of_reviews</th>\n",
       "      <th>last_review</th>\n",
       "      <th>reviews_per_month</th>\n",
       "      <th>calculated_host_listings_count</th>\n",
       "      <th>availability_365</th>\n",
       "      <th>city</th>\n",
       "    </tr>\n",
       "  </thead>\n",
       "  <tbody>\n",
       "    <tr>\n",
       "      <th>0</th>\n",
       "      <td>38585</td>\n",
       "      <td>Charming Victorian home - twin beds + breakfast</td>\n",
       "      <td>165529</td>\n",
       "      <td>Evelyne</td>\n",
       "      <td>NaN</td>\n",
       "      <td>28804</td>\n",
       "      <td>35.65146</td>\n",
       "      <td>-82.62792</td>\n",
       "      <td>Private room</td>\n",
       "      <td>60</td>\n",
       "      <td>1</td>\n",
       "      <td>138</td>\n",
       "      <td>16/02/20</td>\n",
       "      <td>1.14</td>\n",
       "      <td>1</td>\n",
       "      <td>0</td>\n",
       "      <td>Asheville</td>\n",
       "    </tr>\n",
       "  </tbody>\n",
       "</table>\n",
       "</div>"
      ],
      "text/plain": [
       "      id                                             name  host_id host_name  \\\n",
       "0  38585  Charming Victorian home - twin beds + breakfast   165529   Evelyne   \n",
       "\n",
       "  neighbourhood_group neighbourhood  latitude  longitude     room_type  price  \\\n",
       "0                 NaN         28804  35.65146  -82.62792  Private room     60   \n",
       "\n",
       "   minimum_nights  number_of_reviews last_review  reviews_per_month  \\\n",
       "0               1                138    16/02/20               1.14   \n",
       "\n",
       "   calculated_host_listings_count  availability_365       city  \n",
       "0                               1                 0  Asheville  "
      ]
     },
     "execution_count": 134,
     "metadata": {},
     "output_type": "execute_result"
    }
   ],
   "source": [
    "df = pd.read_csv('Dataset/AB_US_2020.csv')\n",
    "df.head(1)"
   ]
  },
  {
   "cell_type": "code",
   "execution_count": 135,
   "id": "b1a2de1b",
   "metadata": {
    "hidden": true
   },
   "outputs": [
    {
     "data": {
      "text/plain": [
       "226030"
      ]
     },
     "execution_count": 135,
     "metadata": {},
     "output_type": "execute_result"
    }
   ],
   "source": [
    "len(df)"
   ]
  },
  {
   "cell_type": "code",
   "execution_count": 136,
   "id": "013fca42",
   "metadata": {
    "hidden": true
   },
   "outputs": [
    {
     "data": {
      "text/plain": [
       "object     7\n",
       "int64      7\n",
       "float64    3\n",
       "dtype: int64"
      ]
     },
     "execution_count": 136,
     "metadata": {},
     "output_type": "execute_result"
    }
   ],
   "source": [
    "df.dtypes.value_counts()"
   ]
  },
  {
   "cell_type": "code",
   "execution_count": 137,
   "id": "624862f7",
   "metadata": {
    "hidden": true,
    "scrolled": false
   },
   "outputs": [
    {
     "data": {
      "text/plain": [
       "id                                 0.000000\n",
       "name                               0.012388\n",
       "host_id                            0.000000\n",
       "host_name                          0.014600\n",
       "neighbourhood_group               51.252046\n",
       "neighbourhood                      0.000000\n",
       "latitude                           0.000000\n",
       "longitude                          0.000000\n",
       "room_type                          0.000000\n",
       "price                              0.000000\n",
       "minimum_nights                     0.000000\n",
       "number_of_reviews                  0.000000\n",
       "last_review                       21.502455\n",
       "reviews_per_month                 21.502455\n",
       "calculated_host_listings_count     0.000000\n",
       "availability_365                   0.000000\n",
       "city                               0.000000\n",
       "dtype: float64"
      ]
     },
     "execution_count": 137,
     "metadata": {},
     "output_type": "execute_result"
    }
   ],
   "source": [
    "df.isna().sum()/len(df)*100"
   ]
  },
  {
   "cell_type": "markdown",
   "id": "12fb1858",
   "metadata": {
    "hidden": true
   },
   "source": [
    "### NaNs $(51.25\\%)$ in `neighbourhood_group` + Mixed Values (string and postal code) ?"
   ]
  },
  {
   "cell_type": "code",
   "execution_count": 138,
   "id": "2aacf47a",
   "metadata": {
    "hidden": true,
    "scrolled": false
   },
   "outputs": [
    {
     "data": {
      "text/plain": [
       "1450"
      ]
     },
     "execution_count": 138,
     "metadata": {},
     "output_type": "execute_result"
    }
   ],
   "source": [
    "df.neighbourhood.nunique()"
   ]
  },
  {
   "cell_type": "markdown",
   "id": "653c56b2",
   "metadata": {
    "hidden": true
   },
   "source": [
    "Too many unique value for these features, let's drop `neighbourhood` and `neighbourhood_group`, maybe we will come back to those..."
   ]
  },
  {
   "cell_type": "code",
   "execution_count": 139,
   "id": "4e94ca44",
   "metadata": {
    "hidden": true
   },
   "outputs": [],
   "source": [
    "df.drop(columns=['id','host_id','host_name','neighbourhood_group', 'neighbourhood'], inplace= True)"
   ]
  },
  {
   "cell_type": "code",
   "execution_count": 140,
   "id": "7d4593e3",
   "metadata": {
    "hidden": true,
    "scrolled": true
   },
   "outputs": [
    {
     "data": {
      "text/html": [
       "<div>\n",
       "<style scoped>\n",
       "    .dataframe tbody tr th:only-of-type {\n",
       "        vertical-align: middle;\n",
       "    }\n",
       "\n",
       "    .dataframe tbody tr th {\n",
       "        vertical-align: top;\n",
       "    }\n",
       "\n",
       "    .dataframe thead th {\n",
       "        text-align: right;\n",
       "    }\n",
       "</style>\n",
       "<table border=\"1\" class=\"dataframe\">\n",
       "  <thead>\n",
       "    <tr style=\"text-align: right;\">\n",
       "      <th></th>\n",
       "      <th>name</th>\n",
       "      <th>latitude</th>\n",
       "      <th>longitude</th>\n",
       "      <th>room_type</th>\n",
       "      <th>price</th>\n",
       "      <th>minimum_nights</th>\n",
       "      <th>number_of_reviews</th>\n",
       "      <th>last_review</th>\n",
       "      <th>reviews_per_month</th>\n",
       "      <th>calculated_host_listings_count</th>\n",
       "      <th>availability_365</th>\n",
       "      <th>city</th>\n",
       "    </tr>\n",
       "  </thead>\n",
       "  <tbody>\n",
       "    <tr>\n",
       "      <th>0</th>\n",
       "      <td>Charming Victorian home - twin beds + breakfast</td>\n",
       "      <td>35.65146</td>\n",
       "      <td>-82.62792</td>\n",
       "      <td>Private room</td>\n",
       "      <td>60</td>\n",
       "      <td>1</td>\n",
       "      <td>138</td>\n",
       "      <td>16/02/20</td>\n",
       "      <td>1.14</td>\n",
       "      <td>1</td>\n",
       "      <td>0</td>\n",
       "      <td>Asheville</td>\n",
       "    </tr>\n",
       "  </tbody>\n",
       "</table>\n",
       "</div>"
      ],
      "text/plain": [
       "                                              name  latitude  longitude  \\\n",
       "0  Charming Victorian home - twin beds + breakfast  35.65146  -82.62792   \n",
       "\n",
       "      room_type  price  minimum_nights  number_of_reviews last_review  \\\n",
       "0  Private room     60               1                138    16/02/20   \n",
       "\n",
       "   reviews_per_month  calculated_host_listings_count  availability_365  \\\n",
       "0               1.14                               1                 0   \n",
       "\n",
       "        city  \n",
       "0  Asheville  "
      ]
     },
     "execution_count": 140,
     "metadata": {},
     "output_type": "execute_result"
    }
   ],
   "source": [
    "df.head(1)"
   ]
  },
  {
   "cell_type": "code",
   "execution_count": 141,
   "id": "42d452d1",
   "metadata": {
    "hidden": true
   },
   "outputs": [
    {
     "data": {
      "text/plain": [
       "name                               object\n",
       "latitude                          float64\n",
       "longitude                         float64\n",
       "room_type                          object\n",
       "price                               int64\n",
       "minimum_nights                      int64\n",
       "number_of_reviews                   int64\n",
       "last_review                        object\n",
       "reviews_per_month                 float64\n",
       "calculated_host_listings_count      int64\n",
       "availability_365                    int64\n",
       "city                               object\n",
       "dtype: object"
      ]
     },
     "execution_count": 141,
     "metadata": {},
     "output_type": "execute_result"
    }
   ],
   "source": [
    "df.dtypes"
   ]
  },
  {
   "cell_type": "code",
   "execution_count": 142,
   "id": "04b1062f",
   "metadata": {
    "hidden": true
   },
   "outputs": [
    {
     "data": {
      "text/plain": [
       "int64      5\n",
       "object     4\n",
       "float64    3\n",
       "dtype: int64"
      ]
     },
     "execution_count": 142,
     "metadata": {},
     "output_type": "execute_result"
    }
   ],
   "source": [
    "df.dtypes.value_counts()"
   ]
  },
  {
   "cell_type": "markdown",
   "id": "2db92ff4",
   "metadata": {
    "heading_collapsed": true,
    "hidden": true
   },
   "source": [
    "### EDA on Tableau+"
   ]
  },
  {
   "cell_type": "markdown",
   "id": "dc6d1472",
   "metadata": {
    "hidden": true
   },
   "source": [
    "- Price Outliers\n",
    "- Minimum Number of Night Outliers\n",
    "- Adding State Parameter\n",
    "- Adding City center Coordinates\n",
    "- Creating Feature from City center\n",
    "- Early Airbnb Trend Sheet 3 (if less reviews higher price? Then settle?) \n",
    "- Availability 365 Effect on Price?\n",
    "- 24999 \\$ Price Surely an Error "
   ]
  },
  {
   "cell_type": "markdown",
   "id": "c70163bb",
   "metadata": {
    "heading_collapsed": true
   },
   "source": [
    "## EDA Python"
   ]
  },
  {
   "cell_type": "markdown",
   "id": "1624f62c",
   "metadata": {
    "heading_collapsed": true,
    "hidden": true
   },
   "source": [
    "### Target Analysis (Price)"
   ]
  },
  {
   "cell_type": "code",
   "execution_count": 14,
   "id": "758901ad",
   "metadata": {
    "hidden": true
   },
   "outputs": [
    {
     "name": "stderr",
     "output_type": "stream",
     "text": [
      "/home/biagio/.pyenv/versions/3.8.6/envs/lewagon/lib/python3.8/site-packages/IPython/core/interactiveshell.py:3165: DtypeWarning: Columns (4) have mixed types.Specify dtype option on import or set low_memory=False.\n",
      "  has_raised = await self.run_ast_nodes(code_ast.body, cell_name,\n"
     ]
    }
   ],
   "source": [
    "df = pd.read_csv('Dataset/AB_US_2020.csv')"
   ]
  },
  {
   "cell_type": "markdown",
   "id": "e59980a2",
   "metadata": {
    "hidden": true
   },
   "source": [
    "#### Strange prices in the target... Error or not?"
   ]
  },
  {
   "cell_type": "code",
   "execution_count": 12,
   "id": "0e8ff33e",
   "metadata": {
    "hidden": true
   },
   "outputs": [
    {
     "data": {
      "text/html": [
       "<div>\n",
       "<style scoped>\n",
       "    .dataframe tbody tr th:only-of-type {\n",
       "        vertical-align: middle;\n",
       "    }\n",
       "\n",
       "    .dataframe tbody tr th {\n",
       "        vertical-align: top;\n",
       "    }\n",
       "\n",
       "    .dataframe thead th {\n",
       "        text-align: right;\n",
       "    }\n",
       "</style>\n",
       "<table border=\"1\" class=\"dataframe\">\n",
       "  <thead>\n",
       "    <tr style=\"text-align: right;\">\n",
       "      <th></th>\n",
       "      <th>id</th>\n",
       "      <th>name</th>\n",
       "      <th>host_id</th>\n",
       "      <th>host_name</th>\n",
       "      <th>neighbourhood_group</th>\n",
       "      <th>neighbourhood</th>\n",
       "      <th>latitude</th>\n",
       "      <th>longitude</th>\n",
       "      <th>room_type</th>\n",
       "      <th>price</th>\n",
       "      <th>minimum_nights</th>\n",
       "      <th>number_of_reviews</th>\n",
       "      <th>last_review</th>\n",
       "      <th>reviews_per_month</th>\n",
       "      <th>calculated_host_listings_count</th>\n",
       "      <th>availability_365</th>\n",
       "      <th>city</th>\n",
       "    </tr>\n",
       "  </thead>\n",
       "  <tbody>\n",
       "    <tr>\n",
       "      <th>1231</th>\n",
       "      <td>32067034</td>\n",
       "      <td>Cozy Cottage on the Creek</td>\n",
       "      <td>134903005</td>\n",
       "      <td>Carolina Mornings</td>\n",
       "      <td>NaN</td>\n",
       "      <td>28804</td>\n",
       "      <td>35.64810</td>\n",
       "      <td>-82.62892</td>\n",
       "      <td>Entire home/apt</td>\n",
       "      <td>10000</td>\n",
       "      <td>1</td>\n",
       "      <td>0</td>\n",
       "      <td>NaN</td>\n",
       "      <td>NaN</td>\n",
       "      <td>18</td>\n",
       "      <td>83</td>\n",
       "      <td>Asheville</td>\n",
       "    </tr>\n",
       "    <tr>\n",
       "      <th>1845</th>\n",
       "      <td>42513939</td>\n",
       "      <td>Almost Heaven Too</td>\n",
       "      <td>303909632</td>\n",
       "      <td>Thomas</td>\n",
       "      <td>NaN</td>\n",
       "      <td>28704</td>\n",
       "      <td>35.46876</td>\n",
       "      <td>-82.50776</td>\n",
       "      <td>Entire home/apt</td>\n",
       "      <td>24999</td>\n",
       "      <td>2</td>\n",
       "      <td>5</td>\n",
       "      <td>09/08/20</td>\n",
       "      <td>1.55</td>\n",
       "      <td>4</td>\n",
       "      <td>253</td>\n",
       "      <td>Asheville</td>\n",
       "    </tr>\n",
       "  </tbody>\n",
       "</table>\n",
       "</div>"
      ],
      "text/plain": [
       "            id                       name    host_id          host_name  \\\n",
       "1231  32067034  Cozy Cottage on the Creek  134903005  Carolina Mornings   \n",
       "1845  42513939          Almost Heaven Too  303909632             Thomas   \n",
       "\n",
       "     neighbourhood_group neighbourhood  latitude  longitude        room_type  \\\n",
       "1231                 NaN         28804  35.64810  -82.62892  Entire home/apt   \n",
       "1845                 NaN         28704  35.46876  -82.50776  Entire home/apt   \n",
       "\n",
       "      price  minimum_nights  number_of_reviews last_review  reviews_per_month  \\\n",
       "1231  10000               1                  0         NaN                NaN   \n",
       "1845  24999               2                  5    09/08/20               1.55   \n",
       "\n",
       "      calculated_host_listings_count  availability_365       city  \n",
       "1231                              18                83  Asheville  \n",
       "1845                               4               253  Asheville  "
      ]
     },
     "execution_count": 12,
     "metadata": {},
     "output_type": "execute_result"
    }
   ],
   "source": [
    "# Strange prices\n",
    "strange = df[(df['price'] == 10000) | (df['price']==24999)]\n",
    "strange.head(2)"
   ]
  },
  {
   "cell_type": "code",
   "execution_count": 13,
   "id": "e1620c3f",
   "metadata": {
    "hidden": true
   },
   "outputs": [
    {
     "data": {
      "image/png": "[encoded data removed]",
      "text/plain": [
       "<Figure size 720x432 with 1 Axes>"
      ]
     },
     "metadata": {
      "needs_background": "light"
     },
     "output_type": "display_data"
    }
   ],
   "source": [
    "plt.figure(figsize=(10,6))\n",
    "sns.scatterplot(data=df, y='price', x=df.index)\n",
    "plt.scatter(strange.index,strange['price'], color='r', marker='*')\n",
    "plt.grid()"
   ]
  },
  {
   "cell_type": "markdown",
   "id": "c542774b",
   "metadata": {
    "hidden": true
   },
   "source": [
    "####  Removing outliers - To be Safe "
   ]
  },
  {
   "cell_type": "markdown",
   "id": "8ba3c4d0",
   "metadata": {
    "hidden": true
   },
   "source": [
    "To use in the Pipeline (https://scikit-learn.org/stable/modules/generated/sklearn.preprocessing.QuantileTransformer.html)?"
   ]
  },
  {
   "cell_type": "code",
   "execution_count": 14,
   "id": "3fceb141",
   "metadata": {
    "hidden": true
   },
   "outputs": [
    {
     "name": "stdout",
     "output_type": "stream",
     "text": [
      "Keeping 92.52% of the dataset\n"
     ]
    },
    {
     "data": {
      "image/png": "[encoded data removed]",
      "text/plain": [
       "<Figure size 1080x432 with 4 Axes>"
      ]
     },
     "metadata": {
      "needs_background": "light"
     },
     "output_type": "display_data"
    }
   ],
   "source": [
    "fig, ax = plt.subplots(2,2, figsize=(15,6))\n",
    "sns.boxplot(data=df, x='price', ax=ax[0,0])\n",
    "sns.kdeplot(data=df, x='price', ax=ax[1,0]);\n",
    "\n",
    "# Countering Outliers\n",
    "def quantile_selector(df, bounds):\n",
    "    df_reduced = df[df['price'].between(df['price'].quantile(bounds[0]), df['price'].quantile(bounds[1]), inclusive=True)]\n",
    "    print(f'Keeping {round(len(df_reduced)/len(df)*100,2)}% of the dataset')\n",
    "    return df_reduced\n",
    "\n",
    "bounds = [0.0, 0.925]\n",
    "df = quantile_selector(df, bounds)\n",
    "\n",
    "sns.boxplot(data=df, x='price', ax=ax[0,1])\n",
    "sns.kdeplot(data=df, x='price', ax=ax[1,1]);"
   ]
  },
  {
   "cell_type": "markdown",
   "id": "14bb68e1",
   "metadata": {
    "hidden": true
   },
   "source": [
    "Getting rid of $Quantile(5\\%)$ and $Quantile(95\\%)$ "
   ]
  },
  {
   "cell_type": "markdown",
   "id": "e588f506",
   "metadata": {
    "heading_collapsed": true,
    "hidden": true
   },
   "source": [
    "### Numerical Features Analysis"
   ]
  },
  {
   "cell_type": "code",
   "execution_count": 15,
   "id": "6bd93198",
   "metadata": {
    "hidden": true
   },
   "outputs": [
    {
     "data": {
      "text/plain": [
       "Index(['id', 'host_id', 'minimum_nights', 'number_of_reviews',\n",
       "       'reviews_per_month', 'calculated_host_listings_count',\n",
       "       'availability_365'],\n",
       "      dtype='object')"
      ]
     },
     "execution_count": 15,
     "metadata": {},
     "output_type": "execute_result"
    }
   ],
   "source": [
    "feat_num = df.select_dtypes(include=['float','int']).drop(columns=['latitude', 'longitude','price']).columns\n",
    "feat_num"
   ]
  },
  {
   "cell_type": "markdown",
   "id": "da1ce27c",
   "metadata": {
    "hidden": true
   },
   "source": [
    "#### `minimum_nights` Analysis"
   ]
  },
  {
   "cell_type": "markdown",
   "id": "2bb7fc52",
   "metadata": {
    "hidden": true
   },
   "source": [
    "Let's put a threshold to make sense of this feature. <br>\n",
    "We fix the maximum `minimum_nights` to spend in the Airbnb to arbitrary value of `15`. <br>\n",
    "The value above 10 are converted to `nan` and the a `SimpleImputer` is used to fill the new entries."
   ]
  },
  {
   "cell_type": "code",
   "execution_count": 16,
   "id": "273df713",
   "metadata": {
    "hidden": true
   },
   "outputs": [
    {
     "name": "stdout",
     "output_type": "stream",
     "text": [
      "100.0% minimum_nights values are above 15!\n"
     ]
    },
    {
     "data": {
      "image/png": "[encoded data removed]",
      "text/plain": [
       "<Figure size 1080x432 with 6 Axes>"
      ]
     },
     "metadata": {
      "needs_background": "light"
     },
     "output_type": "display_data"
    }
   ],
   "source": [
    "fig, ax = plt.subplots(2,3, figsize=(15,6))\n",
    "sns.boxplot(data=df, x='minimum_nights', ax=ax[0,0])\n",
    "sns.kdeplot(data=df, x='minimum_nights', ax=ax[1,0]);\n",
    "\n",
    "# First Step\n",
    "df_red = df[df['minimum_nights']<1e8]\n",
    "\n",
    "sns.boxplot(data=df_red, x='minimum_nights', ax=ax[0,1])\n",
    "sns.kdeplot(data=df_red, x='minimum_nights', ax=ax[1,1]);\n",
    "\n",
    "anomalies = df[feat_num[0]]>15\n",
    "print(f'{round(len(df[anomalies])/len(df)*100, 2)}% minimum_nights values are above 15!')\n",
    "\n",
    "# Second Step\n",
    "def nan_converter(x, value):\n",
    "    if x > value:\n",
    "        return np.nan\n",
    "    return x\n",
    "\n",
    "df['minimum_nights'] = df['minimum_nights'].copy().apply(lambda x: nan_converter(x, 15))\n",
    "\n",
    "simple_impute = SimpleImputer(strategy='median')\n",
    "df['minimum_nights'] = simple_impute.fit_transform(df[['minimum_nights']])\n",
    "\n",
    "sns.boxplot(data=df, x='minimum_nights', ax=ax[0,2])\n",
    "sns.kdeplot(data=df, x='minimum_nights', ax=ax[1,2]);"
   ]
  },
  {
   "cell_type": "markdown",
   "id": "fe7052aa",
   "metadata": {
    "hidden": true
   },
   "source": [
    "#### `number_of_reviews`, `reviews_per_month`, `calculated_host_listings_count`,  `availability_365` Analysis - OK!"
   ]
  },
  {
   "cell_type": "markdown",
   "id": "df874f0b",
   "metadata": {
    "hidden": true
   },
   "source": [
    "__What to do with outliers?__"
   ]
  },
  {
   "cell_type": "code",
   "execution_count": 17,
   "id": "df3f4869",
   "metadata": {
    "hidden": true
   },
   "outputs": [
    {
     "data": {
      "image/png": "[encoded data removed]",
      "text/plain": [
       "<Figure size 1080x432 with 4 Axes>"
      ]
     },
     "metadata": {
      "needs_background": "light"
     },
     "output_type": "display_data"
    }
   ],
   "source": [
    "fig, ax = plt.subplots(2,2, figsize=(15,6))\n",
    "sns.boxplot(data=df, x='number_of_reviews', ax=ax[0,0])\n",
    "sns.boxplot(data=df, x='reviews_per_month', ax=ax[0,1], color='r')\n",
    "sns.kdeplot(data=df, x='number_of_reviews', ax=ax[1,0])\n",
    "sns.kdeplot(data=df, x='reviews_per_month', ax=ax[1,1], color='r');"
   ]
  },
  {
   "cell_type": "code",
   "execution_count": 18,
   "id": "fd535d7b",
   "metadata": {
    "hidden": true
   },
   "outputs": [
    {
     "data": {
      "image/png": "[encoded data removed]",
      "text/plain": [
       "<Figure size 1080x432 with 4 Axes>"
      ]
     },
     "metadata": {
      "needs_background": "light"
     },
     "output_type": "display_data"
    }
   ],
   "source": [
    "fig, ax = plt.subplots(2,2, figsize=(15,6))\n",
    "sns.boxplot(data=df, x='calculated_host_listings_count', ax=ax[0,0], color='g')\n",
    "sns.boxplot(data=df, x='availability_365', ax=ax[0,1], color='y')\n",
    "sns.kdeplot(data=df, x='calculated_host_listings_count', ax=ax[1,0], color='g')\n",
    "sns.kdeplot(data=df, x='availability_365', ax=ax[1,1], color='y');"
   ]
  },
  {
   "cell_type": "markdown",
   "id": "86d9a86d",
   "metadata": {
    "hidden": true
   },
   "source": [
    "Applying a __RobustScaler__? And __Outliers__?"
   ]
  },
  {
   "cell_type": "markdown",
   "id": "4a6b54ed",
   "metadata": {
    "heading_collapsed": true,
    "hidden": true
   },
   "source": [
    "### NaNs $(21.50\\%)$  in `last_review` and `reviews_per_month`?"
   ]
  },
  {
   "cell_type": "markdown",
   "id": "535662c8",
   "metadata": {
    "hidden": true
   },
   "source": [
    "- Reviews? Imputer? __KNNImputer__\n",
    "- Date dropped for the moment"
   ]
  },
  {
   "cell_type": "markdown",
   "id": "bbdfcc9b",
   "metadata": {
    "heading_collapsed": true
   },
   "source": [
    "## Baseline Pipe"
   ]
  },
  {
   "cell_type": "code",
   "execution_count": 3,
   "id": "efe18990",
   "metadata": {
    "hidden": true,
    "scrolled": true
   },
   "outputs": [
    {
     "name": "stderr",
     "output_type": "stream",
     "text": [
      "/home/biagio/.pyenv/versions/3.8.6/envs/lewagon/lib/python3.8/site-packages/IPython/core/interactiveshell.py:3165: DtypeWarning: Columns (4) have mixed types.Specify dtype option on import or set low_memory=False.\n",
      "  has_raised = await self.run_ast_nodes(code_ast.body, cell_name,\n"
     ]
    },
    {
     "data": {
      "text/html": [
       "<div>\n",
       "<style scoped>\n",
       "    .dataframe tbody tr th:only-of-type {\n",
       "        vertical-align: middle;\n",
       "    }\n",
       "\n",
       "    .dataframe tbody tr th {\n",
       "        vertical-align: top;\n",
       "    }\n",
       "\n",
       "    .dataframe thead th {\n",
       "        text-align: right;\n",
       "    }\n",
       "</style>\n",
       "<table border=\"1\" class=\"dataframe\">\n",
       "  <thead>\n",
       "    <tr style=\"text-align: right;\">\n",
       "      <th></th>\n",
       "      <th>id</th>\n",
       "      <th>name</th>\n",
       "      <th>host_id</th>\n",
       "      <th>host_name</th>\n",
       "      <th>neighbourhood_group</th>\n",
       "      <th>neighbourhood</th>\n",
       "      <th>latitude</th>\n",
       "      <th>longitude</th>\n",
       "      <th>room_type</th>\n",
       "      <th>price</th>\n",
       "      <th>minimum_nights</th>\n",
       "      <th>number_of_reviews</th>\n",
       "      <th>last_review</th>\n",
       "      <th>reviews_per_month</th>\n",
       "      <th>calculated_host_listings_count</th>\n",
       "      <th>availability_365</th>\n",
       "      <th>city</th>\n",
       "    </tr>\n",
       "  </thead>\n",
       "  <tbody>\n",
       "    <tr>\n",
       "      <th>0</th>\n",
       "      <td>38585</td>\n",
       "      <td>Charming Victorian home - twin beds + breakfast</td>\n",
       "      <td>165529</td>\n",
       "      <td>Evelyne</td>\n",
       "      <td>NaN</td>\n",
       "      <td>28804</td>\n",
       "      <td>35.65146</td>\n",
       "      <td>-82.62792</td>\n",
       "      <td>Private room</td>\n",
       "      <td>60</td>\n",
       "      <td>1</td>\n",
       "      <td>138</td>\n",
       "      <td>16/02/20</td>\n",
       "      <td>1.14</td>\n",
       "      <td>1</td>\n",
       "      <td>0</td>\n",
       "      <td>Asheville</td>\n",
       "    </tr>\n",
       "  </tbody>\n",
       "</table>\n",
       "</div>"
      ],
      "text/plain": [
       "      id                                             name  host_id host_name  \\\n",
       "0  38585  Charming Victorian home - twin beds + breakfast   165529   Evelyne   \n",
       "\n",
       "  neighbourhood_group neighbourhood  latitude  longitude     room_type  price  \\\n",
       "0                 NaN         28804  35.65146  -82.62792  Private room     60   \n",
       "\n",
       "   minimum_nights  number_of_reviews last_review  reviews_per_month  \\\n",
       "0               1                138    16/02/20               1.14   \n",
       "\n",
       "   calculated_host_listings_count  availability_365       city  \n",
       "0                               1                 0  Asheville  "
      ]
     },
     "execution_count": 3,
     "metadata": {},
     "output_type": "execute_result"
    }
   ],
   "source": [
    "df = pd.read_csv('Dataset/AB_US_2020.csv')\n",
    "df.head(1)"
   ]
  },
  {
   "cell_type": "markdown",
   "id": "99b1dc98",
   "metadata": {
    "hidden": true
   },
   "source": [
    "A lot of dropped features think how to use those..."
   ]
  },
  {
   "cell_type": "code",
   "execution_count": 4,
   "id": "56d41597",
   "metadata": {
    "hidden": true
   },
   "outputs": [],
   "source": [
    "dropped_feat = ['last_review','name', 'latitude', 'longitude',\n",
    "                'id','host_id','host_name', 'neighbourhood']\n",
    "df = df.drop(columns=dropped_feat)"
   ]
  },
  {
   "cell_type": "markdown",
   "id": "558245b9",
   "metadata": {
    "hidden": true
   },
   "source": [
    "Quantile Selection"
   ]
  },
  {
   "cell_type": "code",
   "execution_count": 5,
   "id": "4acfcf2a",
   "metadata": {
    "hidden": true
   },
   "outputs": [
    {
     "name": "stdout",
     "output_type": "stream",
     "text": [
      "Keeping 92.52% of the dataset\n"
     ]
    }
   ],
   "source": [
    "# Quantile Selection\n",
    "bounds = [0.0, 0.925]\n",
    "\n",
    "def quantile_selector(df, bounds):\n",
    "    df_reduced = df[df['price'].between(df['price'].quantile(bounds[0]), df['price'].quantile(bounds[1]), inclusive=True)]\n",
    "    print(f'Keeping {round(len(df_reduced)/len(df)*100,2)}% of the dataset')\n",
    "    return df_reduced\n",
    "\n",
    "df = quantile_selector(df, bounds)"
   ]
  },
  {
   "cell_type": "code",
   "execution_count": 6,
   "id": "035f3560",
   "metadata": {
    "hidden": true
   },
   "outputs": [],
   "source": [
    "X = df.drop(columns='price')\n",
    "y = df['price']"
   ]
  },
  {
   "cell_type": "code",
   "execution_count": 7,
   "id": "61273366",
   "metadata": {
    "hidden": true
   },
   "outputs": [],
   "source": [
    "# # Strong Impact\n",
    "# class QuantileSelector(TransformerMixin, BaseEstimator): \n",
    "\n",
    "#     def __init__(self, target, bounds):\n",
    "#         self.bounds = bounds\n",
    "#         self.target = target\n",
    "    \n",
    "#     def fit(self, X, y=None):\n",
    "#         return self\n",
    "    \n",
    "#     def transform(self, X, y=None):\n",
    "#         df = pd.concat([X, self.target], axis=1)\n",
    "#         df_reduced = df[df['price'].between(df['price'].quantile(bounds[0]), df['price'].quantile(bounds[1]), inclusive=True)]\n",
    "#         print(f'Keeping {round(len(df_reduced)/len(df)*100,2)}% of the dataset')\n",
    "#         X = df_reduced.drop(columns='price')\n",
    "#         return X"
   ]
  },
  {
   "cell_type": "code",
   "execution_count": 8,
   "id": "1a91b33a",
   "metadata": {
    "hidden": true,
    "scrolled": true
   },
   "outputs": [
    {
     "data": {
      "text/plain": [
       "Index(['neighbourhood_group', 'room_type', 'minimum_nights',\n",
       "       'number_of_reviews', 'reviews_per_month',\n",
       "       'calculated_host_listings_count', 'availability_365', 'city'],\n",
       "      dtype='object')"
      ]
     },
     "execution_count": 8,
     "metadata": {},
     "output_type": "execute_result"
    }
   ],
   "source": [
    "X.columns"
   ]
  },
  {
   "cell_type": "code",
   "execution_count": 9,
   "id": "68fd8866",
   "metadata": {
    "hidden": true
   },
   "outputs": [],
   "source": [
    "# Very Strong Impact\n",
    "# class NANConverter(TransformerMixin, BaseEstimator): \n",
    "\n",
    "#     def __init__(self, threshold, col_name, greater=True):\n",
    "#         self.threshold = threshold\n",
    "#         self.col_name = col_name\n",
    "#         self.greater = greater\n",
    "    \n",
    "#     def fit(self, X, y=None):\n",
    "#         return self\n",
    "    \n",
    "#     def transform(self, X, y=None):\n",
    "#         import pdb; pdb.set_trace()\n",
    "#         if self.greater:\n",
    "#             cond = X[self.col_name]>self.threshold\n",
    "#             X.loc[cond, self.col_name] = np.nan\n",
    "#         else:\n",
    "#             cond = X[self.col_name]<self.threshold\n",
    "#             X.loc[cond, self.col_name] = np.nan\n",
    "#         return X"
   ]
  },
  {
   "cell_type": "markdown",
   "id": "c2e3c8ee",
   "metadata": {
    "hidden": true
   },
   "source": [
    "minimum night > 15 converted into NaN"
   ]
  },
  {
   "cell_type": "code",
   "execution_count": 10,
   "id": "55acd201",
   "metadata": {
    "hidden": true
   },
   "outputs": [],
   "source": [
    "def NANConvert(x, threshold):\n",
    "    if x>threshold:\n",
    "        return np.nan\n",
    "    return x\n",
    "\n",
    "X['minimum_nights'] = X['minimum_nights'].apply(lambda x: NANConvert(x, 15))"
   ]
  },
  {
   "cell_type": "code",
   "execution_count": 11,
   "id": "2e6f3638",
   "metadata": {
    "hidden": true
   },
   "outputs": [
    {
     "data": {
      "text/plain": [
       "int64      3\n",
       "object     3\n",
       "float64    2\n",
       "dtype: int64"
      ]
     },
     "execution_count": 11,
     "metadata": {},
     "output_type": "execute_result"
    }
   ],
   "source": [
    "X.dtypes.value_counts()"
   ]
  },
  {
   "cell_type": "markdown",
   "id": "d3c38606",
   "metadata": {
    "hidden": true
   },
   "source": [
    "Converting Availability 0 into mean value"
   ]
  },
  {
   "cell_type": "code",
   "execution_count": 12,
   "id": "5b2adfbf",
   "metadata": {
    "hidden": true
   },
   "outputs": [],
   "source": [
    "# Converting Availability 0 into median value\n",
    "def ValueConvert(x, threshold, value):\n",
    "    if x==threshold:\n",
    "        return value\n",
    "    return x\n",
    "\n",
    "median = round(np.mean(X['availability_365']))\n",
    "\n",
    "X['availability_365'] = X['availability_365'].apply(lambda x: ValueConvert(x, 0, median))"
   ]
  },
  {
   "cell_type": "markdown",
   "id": "95695e08",
   "metadata": {
    "hidden": true
   },
   "source": [
    "Converting Availability into months"
   ]
  },
  {
   "cell_type": "code",
   "execution_count": 13,
   "id": "e5da60fa",
   "metadata": {
    "hidden": true
   },
   "outputs": [],
   "source": [
    "def to_month(x):\n",
    "    if x < 30:\n",
    "        return '1'\n",
    "\n",
    "    elif 30 <= x <60:\n",
    "        return '2'\n",
    "    \n",
    "    elif 60 <= x <90:\n",
    "        return '3'\n",
    "    \n",
    "    elif 90 <= x <120:\n",
    "        return '4'\n",
    "    \n",
    "    elif 120 <= x <150:\n",
    "        return '5'\n",
    "    \n",
    "    elif 150 <= x <170:\n",
    "        return '6'\n",
    "    \n",
    "    elif 170 <= x <200:\n",
    "        return '7'\n",
    "    \n",
    "    elif 230 <= x <250:\n",
    "        return '8'\n",
    "    \n",
    "    elif 250 <= x <270:\n",
    "        return '9'\n",
    "    \n",
    "    elif 270 <= x <300:\n",
    "        return '10'\n",
    "    \n",
    "    elif 300 <= x <330:\n",
    "        return '11'\n",
    "    \n",
    "    else:\n",
    "        return '12'\n",
    "    \n",
    "X['availability_365'] = X['availability_365'].apply(to_month)"
   ]
  },
  {
   "cell_type": "code",
   "execution_count": 14,
   "id": "71c76c4e",
   "metadata": {
    "hidden": true
   },
   "outputs": [
    {
     "data": {
      "text/plain": [
       "object     4\n",
       "int64      2\n",
       "float64    2\n",
       "dtype: int64"
      ]
     },
     "execution_count": 14,
     "metadata": {},
     "output_type": "execute_result"
    }
   ],
   "source": [
    "X.dtypes.value_counts()"
   ]
  },
  {
   "cell_type": "code",
   "execution_count": 15,
   "id": "3a9f1e24",
   "metadata": {
    "hidden": true
   },
   "outputs": [
    {
     "data": {
      "text/html": [
       "<style>#sk-72b51a71-464b-4920-9cf5-bfac549aff96 {color: black;background-color: white;}#sk-72b51a71-464b-4920-9cf5-bfac549aff96 pre{padding: 0;}#sk-72b51a71-464b-4920-9cf5-bfac549aff96 div.sk-toggleable {background-color: white;}#sk-72b51a71-464b-4920-9cf5-bfac549aff96 label.sk-toggleable__label {cursor: pointer;display: block;width: 100%;margin-bottom: 0;padding: 0.2em 0.3em;box-sizing: border-box;text-align: center;}#sk-72b51a71-464b-4920-9cf5-bfac549aff96 div.sk-toggleable__content {max-height: 0;max-width: 0;overflow: hidden;text-align: left;background-color: #f0f8ff;}#sk-72b51a71-464b-4920-9cf5-bfac549aff96 div.sk-toggleable__content pre {margin: 0.2em;color: black;border-radius: 0.25em;background-color: #f0f8ff;}#sk-72b51a71-464b-4920-9cf5-bfac549aff96 input.sk-toggleable__control:checked~div.sk-toggleable__content {max-height: 200px;max-width: 100%;overflow: auto;}#sk-72b51a71-464b-4920-9cf5-bfac549aff96 div.sk-estimator input.sk-toggleable__control:checked~label.sk-toggleable__label {background-color: #d4ebff;}#sk-72b51a71-464b-4920-9cf5-bfac549aff96 div.sk-label input.sk-toggleable__control:checked~label.sk-toggleable__label {background-color: #d4ebff;}#sk-72b51a71-464b-4920-9cf5-bfac549aff96 input.sk-hidden--visually {border: 0;clip: rect(1px 1px 1px 1px);clip: rect(1px, 1px, 1px, 1px);height: 1px;margin: -1px;overflow: hidden;padding: 0;position: absolute;width: 1px;}#sk-72b51a71-464b-4920-9cf5-bfac549aff96 div.sk-estimator {font-family: monospace;background-color: #f0f8ff;margin: 0.25em 0.25em;border: 1px dotted black;border-radius: 0.25em;box-sizing: border-box;}#sk-72b51a71-464b-4920-9cf5-bfac549aff96 div.sk-estimator:hover {background-color: #d4ebff;}#sk-72b51a71-464b-4920-9cf5-bfac549aff96 div.sk-parallel-item::after {content: \"\";width: 100%;border-bottom: 1px solid gray;flex-grow: 1;}#sk-72b51a71-464b-4920-9cf5-bfac549aff96 div.sk-label:hover label.sk-toggleable__label {background-color: #d4ebff;}#sk-72b51a71-464b-4920-9cf5-bfac549aff96 div.sk-serial::before {content: \"\";position: absolute;border-left: 1px solid gray;box-sizing: border-box;top: 2em;bottom: 0;left: 50%;}#sk-72b51a71-464b-4920-9cf5-bfac549aff96 div.sk-serial {display: flex;flex-direction: column;align-items: center;background-color: white;}#sk-72b51a71-464b-4920-9cf5-bfac549aff96 div.sk-item {z-index: 1;}#sk-72b51a71-464b-4920-9cf5-bfac549aff96 div.sk-parallel {display: flex;align-items: stretch;justify-content: center;background-color: white;}#sk-72b51a71-464b-4920-9cf5-bfac549aff96 div.sk-parallel-item {display: flex;flex-direction: column;position: relative;background-color: white;}#sk-72b51a71-464b-4920-9cf5-bfac549aff96 div.sk-parallel-item:first-child::after {align-self: flex-end;width: 50%;}#sk-72b51a71-464b-4920-9cf5-bfac549aff96 div.sk-parallel-item:last-child::after {align-self: flex-start;width: 50%;}#sk-72b51a71-464b-4920-9cf5-bfac549aff96 div.sk-parallel-item:only-child::after {width: 0;}#sk-72b51a71-464b-4920-9cf5-bfac549aff96 div.sk-dashed-wrapped {border: 1px dashed gray;margin: 0.2em;box-sizing: border-box;padding-bottom: 0.1em;background-color: white;position: relative;}#sk-72b51a71-464b-4920-9cf5-bfac549aff96 div.sk-label label {font-family: monospace;font-weight: bold;background-color: white;display: inline-block;line-height: 1.2em;}#sk-72b51a71-464b-4920-9cf5-bfac549aff96 div.sk-label-container {position: relative;z-index: 2;text-align: center;}#sk-72b51a71-464b-4920-9cf5-bfac549aff96 div.sk-container {display: inline-block;position: relative;}</style><div id=\"sk-72b51a71-464b-4920-9cf5-bfac549aff96\" class\"sk-top-container\"><div class=\"sk-container\"><div class=\"sk-item sk-dashed-wrapped\"><div class=\"sk-label-container\"><div class=\"sk-label sk-toggleable\"><input class=\"sk-toggleable__control sk-hidden--visually\" id=\"e4c7ce51-fd76-4a84-8ce0-538b72f3c623\" type=\"checkbox\" ><label class=\"sk-toggleable__label\" for=\"e4c7ce51-fd76-4a84-8ce0-538b72f3c623\">Pipeline</label><div class=\"sk-toggleable__content\"><pre>Pipeline(steps=[('preprocessing',\n",
       "                 ColumnTransformer(transformers=[('num_encoder',\n",
       "                                                  Pipeline(steps=[('simple_imputer',\n",
       "                                                                   SimpleImputer(fill_value=1,\n",
       "                                                                                 strategy='constant')),\n",
       "                                                                  ('rob_scaler',\n",
       "                                                                   RobustScaler())]),\n",
       "                                                  <sklearn.compose._column_transformer.make_column_selector object at 0x7f10e1c1f3d0>),\n",
       "                                                 ('cat_encoder',\n",
       "                                                  Pipeline(steps=[('simple_imputer',\n",
       "                                                                   SimpleImputer(fill_value='NA',\n",
       "                                                                                 strategy='constant')),\n",
       "                                                                  ('OneHotEncoder',\n",
       "                                                                   OneHotEncoder(handle_unknown='ignore',\n",
       "                                                                                 sparse=False))]),\n",
       "                                                  <sklearn.compose._column_transformer.make_column_selector object at 0x7f10e1c1f370>)])),\n",
       "                ('model', Ridge())])</pre></div></div></div><div class=\"sk-serial\"><div class=\"sk-item sk-dashed-wrapped\"><div class=\"sk-label-container\"><div class=\"sk-label sk-toggleable\"><input class=\"sk-toggleable__control sk-hidden--visually\" id=\"c1492005-fc37-4381-9e9b-e0d9d444453b\" type=\"checkbox\" ><label class=\"sk-toggleable__label\" for=\"c1492005-fc37-4381-9e9b-e0d9d444453b\">preprocessing: ColumnTransformer</label><div class=\"sk-toggleable__content\"><pre>ColumnTransformer(transformers=[('num_encoder',\n",
       "                                 Pipeline(steps=[('simple_imputer',\n",
       "                                                  SimpleImputer(fill_value=1,\n",
       "                                                                strategy='constant')),\n",
       "                                                 ('rob_scaler',\n",
       "                                                  RobustScaler())]),\n",
       "                                 <sklearn.compose._column_transformer.make_column_selector object at 0x7f10e1c1f3d0>),\n",
       "                                ('cat_encoder',\n",
       "                                 Pipeline(steps=[('simple_imputer',\n",
       "                                                  SimpleImputer(fill_value='NA',\n",
       "                                                                strategy='constant')),\n",
       "                                                 ('OneHotEncoder',\n",
       "                                                  OneHotEncoder(handle_unknown='ignore',\n",
       "                                                                sparse=False))]),\n",
       "                                 <sklearn.compose._column_transformer.make_column_selector object at 0x7f10e1c1f370>)])</pre></div></div></div><div class=\"sk-parallel\"><div class=\"sk-parallel-item\"><div class=\"sk-item\"><div class=\"sk-label-container\"><div class=\"sk-label sk-toggleable\"><input class=\"sk-toggleable__control sk-hidden--visually\" id=\"8b814b18-380b-44ee-a173-7c3755a82b6e\" type=\"checkbox\" ><label class=\"sk-toggleable__label\" for=\"8b814b18-380b-44ee-a173-7c3755a82b6e\">num_encoder</label><div class=\"sk-toggleable__content\"><pre><sklearn.compose._column_transformer.make_column_selector object at 0x7f10e1c1f3d0></pre></div></div></div><div class=\"sk-serial\"><div class=\"sk-item\"><div class=\"sk-serial\"><div class=\"sk-item\"><div class=\"sk-estimator sk-toggleable\"><input class=\"sk-toggleable__control sk-hidden--visually\" id=\"e115bf25-7917-48e0-ba80-d0eb9f2bbb8a\" type=\"checkbox\" ><label class=\"sk-toggleable__label\" for=\"e115bf25-7917-48e0-ba80-d0eb9f2bbb8a\">SimpleImputer</label><div class=\"sk-toggleable__content\"><pre>SimpleImputer(fill_value=1, strategy='constant')</pre></div></div></div><div class=\"sk-item\"><div class=\"sk-estimator sk-toggleable\"><input class=\"sk-toggleable__control sk-hidden--visually\" id=\"7adabc77-e5c8-4f55-98ed-88307692b67e\" type=\"checkbox\" ><label class=\"sk-toggleable__label\" for=\"7adabc77-e5c8-4f55-98ed-88307692b67e\">RobustScaler</label><div class=\"sk-toggleable__content\"><pre>RobustScaler()</pre></div></div></div></div></div></div></div></div><div class=\"sk-parallel-item\"><div class=\"sk-item\"><div class=\"sk-label-container\"><div class=\"sk-label sk-toggleable\"><input class=\"sk-toggleable__control sk-hidden--visually\" id=\"8877fca4-e9f9-4e14-a63a-fbb22f9f2e53\" type=\"checkbox\" ><label class=\"sk-toggleable__label\" for=\"8877fca4-e9f9-4e14-a63a-fbb22f9f2e53\">cat_encoder</label><div class=\"sk-toggleable__content\"><pre><sklearn.compose._column_transformer.make_column_selector object at 0x7f10e1c1f370></pre></div></div></div><div class=\"sk-serial\"><div class=\"sk-item\"><div class=\"sk-serial\"><div class=\"sk-item\"><div class=\"sk-estimator sk-toggleable\"><input class=\"sk-toggleable__control sk-hidden--visually\" id=\"761ca73f-ed06-4da3-a4c5-18f9ad588770\" type=\"checkbox\" ><label class=\"sk-toggleable__label\" for=\"761ca73f-ed06-4da3-a4c5-18f9ad588770\">SimpleImputer</label><div class=\"sk-toggleable__content\"><pre>SimpleImputer(fill_value='NA', strategy='constant')</pre></div></div></div><div class=\"sk-item\"><div class=\"sk-estimator sk-toggleable\"><input class=\"sk-toggleable__control sk-hidden--visually\" id=\"b54ab934-4356-4600-9a76-53e61623d231\" type=\"checkbox\" ><label class=\"sk-toggleable__label\" for=\"b54ab934-4356-4600-9a76-53e61623d231\">OneHotEncoder</label><div class=\"sk-toggleable__content\"><pre>OneHotEncoder(handle_unknown='ignore', sparse=False)</pre></div></div></div></div></div></div></div></div></div></div><div class=\"sk-item\"><div class=\"sk-estimator sk-toggleable\"><input class=\"sk-toggleable__control sk-hidden--visually\" id=\"c7b97396-d1e0-4c06-83f9-2e8539f06f6d\" type=\"checkbox\" ><label class=\"sk-toggleable__label\" for=\"c7b97396-d1e0-4c06-83f9-2e8539f06f6d\">Ridge</label><div class=\"sk-toggleable__content\"><pre>Ridge()</pre></div></div></div></div></div></div></div>"
      ],
      "text/plain": [
       "Pipeline(steps=[('preprocessing',\n",
       "                 ColumnTransformer(transformers=[('num_encoder',\n",
       "                                                  Pipeline(steps=[('simple_imputer',\n",
       "                                                                   SimpleImputer(fill_value=1,\n",
       "                                                                                 strategy='constant')),\n",
       "                                                                  ('rob_scaler',\n",
       "                                                                   RobustScaler())]),\n",
       "                                                  <sklearn.compose._column_transformer.make_column_selector object at 0x7f10e1c1f3d0>),\n",
       "                                                 ('cat_encoder',\n",
       "                                                  Pipeline(steps=[('simple_imputer',\n",
       "                                                                   SimpleImputer(fill_value='NA',\n",
       "                                                                                 strategy='constant')),\n",
       "                                                                  ('OneHotEncoder',\n",
       "                                                                   OneHotEncoder(handle_unknown='ignore',\n",
       "                                                                                 sparse=False))]),\n",
       "                                                  <sklearn.compose._column_transformer.make_column_selector object at 0x7f10e1c1f370>)])),\n",
       "                ('model', Ridge())])"
      ]
     },
     "execution_count": 15,
     "metadata": {},
     "output_type": "execute_result"
    }
   ],
   "source": [
    "num_encoder = Pipeline([('simple_imputer', SimpleImputer(strategy = 'constant', fill_value=1)),\n",
    "                        ('rob_scaler', RobustScaler())])\n",
    "\n",
    "cat_encoder = Pipeline([('simple_imputer', SimpleImputer(strategy = 'constant', fill_value='NA')),\n",
    "                        ('OneHotEncoder', OneHotEncoder(sparse=False, handle_unknown='ignore'))])\n",
    "\n",
    "\n",
    "preproc = ColumnTransformer([('num_encoder', num_encoder, make_column_selector(dtype_include=['int64','float64'])),\n",
    "                             ('cat_encoder', cat_encoder , make_column_selector(dtype_include=['object']))\n",
    "                              ])\n",
    "\n",
    "baseline_pipe = Pipeline([('preprocessing', preproc),\n",
    "                          ('model', Ridge())\n",
    "                        ])\n",
    "baseline_pipe"
   ]
  },
  {
   "cell_type": "code",
   "execution_count": 16,
   "id": "205677ba",
   "metadata": {
    "hidden": true
   },
   "outputs": [],
   "source": [
    "rsme = make_scorer(lambda y_true, y_pred: mean_squared_error(y_true, y_pred)**0.5)"
   ]
  },
  {
   "cell_type": "code",
   "execution_count": 17,
   "id": "c9645bbf",
   "metadata": {
    "hidden": true
   },
   "outputs": [
    {
     "data": {
      "text/plain": [
       "0.22211726843095098"
      ]
     },
     "execution_count": 17,
     "metadata": {},
     "output_type": "execute_result"
    }
   ],
   "source": [
    "baseline_score = cross_val_score(baseline_pipe, X, y, cv=5).mean()\n",
    "baseline_score"
   ]
  },
  {
   "cell_type": "markdown",
   "id": "b4c84328",
   "metadata": {
    "hidden": true
   },
   "source": [
    "__`availability_365`__ Not really impacting the `price`!"
   ]
  },
  {
   "cell_type": "markdown",
   "id": "9e1d0082",
   "metadata": {},
   "source": [
    "## Feature Engineering"
   ]
  },
  {
   "cell_type": "code",
   "execution_count": 5,
   "id": "44b9bf7b",
   "metadata": {},
   "outputs": [
    {
     "name": "stderr",
     "output_type": "stream",
     "text": [
      "/home/biagio/.pyenv/versions/3.8.6/envs/lewagon/lib/python3.8/site-packages/IPython/core/interactiveshell.py:3165: DtypeWarning: Columns (4) have mixed types.Specify dtype option on import or set low_memory=False.\n",
      "  has_raised = await self.run_ast_nodes(code_ast.body, cell_name,\n"
     ]
    }
   ],
   "source": [
    "df = pd.read_csv('Dataset/AB_US_2020.csv')"
   ]
  },
  {
   "cell_type": "code",
   "execution_count": 6,
   "id": "af7b7641",
   "metadata": {},
   "outputs": [
    {
     "data": {
      "text/plain": [
       "226030"
      ]
     },
     "execution_count": 6,
     "metadata": {},
     "output_type": "execute_result"
    }
   ],
   "source": [
    "len(df)"
   ]
  },
  {
   "cell_type": "code",
   "execution_count": 7,
   "id": "0181ef92",
   "metadata": {},
   "outputs": [
    {
     "data": {
      "text/plain": [
       "Index(['id', 'name', 'host_id', 'host_name', 'neighbourhood_group',\n",
       "       'neighbourhood', 'latitude', 'longitude', 'room_type', 'price',\n",
       "       'minimum_nights', 'number_of_reviews', 'last_review',\n",
       "       'reviews_per_month', 'calculated_host_listings_count',\n",
       "       'availability_365', 'city'],\n",
       "      dtype='object')"
      ]
     },
     "execution_count": 7,
     "metadata": {},
     "output_type": "execute_result"
    }
   ],
   "source": [
    "df.columns"
   ]
  },
  {
   "cell_type": "code",
   "execution_count": 8,
   "id": "fb57724f",
   "metadata": {},
   "outputs": [
    {
     "data": {
      "text/plain": [
       "array([nan, 'Hawaii', 'Kauai', 'Maui', 'Honolulu', 'Other Cities',\n",
       "       'City of Los Angeles', 'Unincorporated Areas', 'Manhattan',\n",
       "       'Brooklyn', 'Queens', 'Staten Island', 'Bronx', 'Providence',\n",
       "       'Washington', 'Newport', 'Bristol', 'Kent', 'Central Area',\n",
       "       'Other neighborhoods', 'West Seattle', 'Downtown', 'Ballard',\n",
       "       'Capitol Hill', 'Beacon Hill', 'Seward Park', 'Queen Anne',\n",
       "       'Rainier Valley', 'Lake City', 'Cascade', 'Delridge',\n",
       "       'University District', 'Northgate', 'Magnolia', 'Interbay'],\n",
       "      dtype=object)"
      ]
     },
     "execution_count": 8,
     "metadata": {},
     "output_type": "execute_result"
    }
   ],
   "source": [
    "df.neighbourhood_group.unique()"
   ]
  },
  {
   "cell_type": "code",
   "execution_count": 9,
   "id": "5abf98a1",
   "metadata": {},
   "outputs": [],
   "source": [
    "dropped_feat = ['id','host_id','host_name', 'neighbourhood']\n",
    "df = df.drop(columns=dropped_feat)"
   ]
  },
  {
   "cell_type": "markdown",
   "id": "f5bfd68b",
   "metadata": {},
   "source": [
    "### City Center Distance Feature and State Feature"
   ]
  },
  {
   "cell_type": "code",
   "execution_count": 10,
   "id": "1efe2c23",
   "metadata": {},
   "outputs": [
    {
     "data": {
      "text/plain": [
       "array(['Asheville', 'Austin', 'Boston', 'Broward County', 'Cambridge',\n",
       "       'Chicago', 'Clark County', 'Columbus', 'Denver', 'Hawaii',\n",
       "       'Jersey City', 'Los Angeles', 'Nashville', 'New Orleans',\n",
       "       'New York City', 'Oakland', 'Pacific Grove', 'Portland',\n",
       "       'Rhode Island', 'Salem', 'San Clara Country', 'San Diego',\n",
       "       'San Francisco', 'San Mateo County', 'Santa Cruz County',\n",
       "       'Seattle', 'Twin Cities MSA', 'Washington D.C.'], dtype=object)"
      ]
     },
     "execution_count": 10,
     "metadata": {},
     "output_type": "execute_result"
    }
   ],
   "source": [
    "df.city.unique()"
   ]
  },
  {
   "cell_type": "markdown",
   "id": "83047128",
   "metadata": {},
   "source": [
    "- Santa Clara Country to County\n",
    "- Asheville hardcoding\n",
    "- Cambridge USA\n",
    "- Are those really city center spots?\n",
    "- Hard Coding?\n",
    "- What to do with Hawaii? -> Finding some info in Neighbours?"
   ]
  },
  {
   "cell_type": "code",
   "execution_count": 11,
   "id": "04068c24",
   "metadata": {},
   "outputs": [
    {
     "data": {
      "text/plain": [
       "array(['Hawaii', 'Kauai', 'Maui', 'Honolulu'], dtype=object)"
      ]
     },
     "execution_count": 11,
     "metadata": {},
     "output_type": "execute_result"
    }
   ],
   "source": [
    "df[df.city == 'Hawaii'].neighbourhood_group.unique()"
   ]
  },
  {
   "cell_type": "code",
   "execution_count": 12,
   "id": "374bb5b8",
   "metadata": {},
   "outputs": [
    {
     "data": {
      "text/plain": [
       "array(['Manhattan', 'Brooklyn', 'Queens', 'Staten Island', 'Bronx'],\n",
       "      dtype=object)"
      ]
     },
     "execution_count": 12,
     "metadata": {},
     "output_type": "execute_result"
    }
   ],
   "source": [
    "df[df.city == 'New York City'].neighbourhood_group.unique()"
   ]
  },
  {
   "cell_type": "code",
   "execution_count": 13,
   "id": "fb652b9d",
   "metadata": {},
   "outputs": [
    {
     "data": {
      "text/plain": [
       "array(['Providence', 'Washington', 'Newport', 'Bristol', 'Kent'],\n",
       "      dtype=object)"
      ]
     },
     "execution_count": 13,
     "metadata": {},
     "output_type": "execute_result"
    }
   ],
   "source": [
    "df[df.city == 'Rhode Island'].neighbourhood_group.unique()"
   ]
  },
  {
   "cell_type": "markdown",
   "id": "9c344bf3",
   "metadata": {},
   "source": [
    "- Las Vegas = Clark County\n",
    "- Hawaii SubCat\n",
    "- New York SubCat\n",
    "- Rhode Island SubCat\n",
    "- Seattle SubCat (Too hard...)"
   ]
  },
  {
   "cell_type": "markdown",
   "id": "097e39bc",
   "metadata": {},
   "source": [
    "__Data taken form various websites__"
   ]
  },
  {
   "cell_type": "code",
   "execution_count": 14,
   "id": "07b0265d",
   "metadata": {},
   "outputs": [],
   "source": [
    "center_coordinates = {'Asheville': [35.595058, -82.551487, 'NC'],\n",
    "                      'Austin': [30.266666, -97.733330, 'TX'],\n",
    "                      'Boston': [42.361145, -71.057083, 'MA'],\n",
    "                      'Broward County': [26.1244, -80.2495, 'Florida'],\n",
    "                      'Cambridge': [42.373611, -71.110558,'MA'],\n",
    "                      'Chicago': [41.881832, -87.623177,'IL'],\n",
    "                      'Clark County': [36.114647, -115.172813, 'NV'], \n",
    "                      'Columbus': [39.983334, -82.983330,'OH'],\n",
    "                      'Denver': [39.742043,  -104.991531, 'CO'],\n",
    "                      'Hawaii': [19.8968, -155.5828, 'HI'],\n",
    "                      'Kauai': [22.108543, -159.496765, 'HI'],\n",
    "                      'Maui': [20.798363, -156.331924, 'HI'],\n",
    "                      'Honolulu': [21.315603, -157.858093,'HI'],\n",
    "                      'Jersey City': [40.719074, -74.050552,'NJ'],\n",
    "                      'Los Angeles': [34.052235, -118.243683, 'CA'],\n",
    "                      'Nashville': [36.174465, -86.767960, 'TN'],\n",
    "                      'New Orleans': [29.951065, -90.071533, 'LA'],\n",
    "                      'Manhattan': [40.754932, -73.984016, 'NY'],\n",
    "                      'Brooklyn': [40.650002, -73.949997, 'NY'],\n",
    "                      'Queens': [40.742054, -73.769417, 'NY'],\n",
    "                      'Staten Island': [40.579021, -74.151535, 'NY'],\n",
    "                      'Bronx': [40.837048, -73.865433, 'NY'],\n",
    "                      'Oakland': [37.804363, -122.271111, 'CA'],\n",
    "                      'Pacific Grove': [36.617779, -121.916664, 'CA'],\n",
    "                      'Portland': [45.523064, -122.676483, 'OR'],\n",
    "                      'Providence': [41.825226, -71.418884, 'RI'],\n",
    "                      'Washington': [41.6884336, -71.5667291, 'RI'],\n",
    "                      'Newport': [41.490578, -71.310196, 'RI'],\n",
    "                      'Bristol': [41.6771101,  -71.2662025, 'RI'],\n",
    "                      'Kent': [41.6800, -71.5800, 'RI'],\n",
    "                      'Salem': [44.944099, -123.040283, 'OR'],\n",
    "                      'San Clara Country': [37.354107, -121.955238, 'CA'],\n",
    "                      'San Diego': [32.715736, -117.161087, 'CA'],\n",
    "                      'San Francisco': [37.773972, -122.431297, 'CA'],\n",
    "                      'San Mateo County': [37.554169, -122.313057, 'CA'],\n",
    "                      'Santa Cruz County': [36.974117, -122.030792, 'CA'],\n",
    "                      'Seattle': [47.608013, -122.335167, 'WA'],\n",
    "                      'Twin Cities MSA': [44.986656, -93.258133, 'MN'],\n",
    "                      'Washington D.C.': [38.89511, -77.03637, 'DC']}           \n",
    "                      "
   ]
  },
  {
   "cell_type": "code",
   "execution_count": 15,
   "id": "e44d7908",
   "metadata": {},
   "outputs": [],
   "source": [
    "# BAD COODING !\n",
    "def city_convert(city, neigh):\n",
    "    res = []\n",
    "    for cit, nei in zip(city, neigh):\n",
    "        if cit == 'Hawaii' or cit == 'New York City' or cit == 'Rhode Island':\n",
    "            res.append(nei)\n",
    "        else:\n",
    "            res.append(cit)\n",
    "    return res\n",
    "\n",
    "df['city'] = city_convert(df.city, df.neighbourhood_group)"
   ]
  },
  {
   "cell_type": "code",
   "execution_count": 16,
   "id": "e2949fa9",
   "metadata": {
    "scrolled": true
   },
   "outputs": [
    {
     "data": {
      "text/plain": [
       "array(['Asheville', 'Austin', 'Boston', 'Broward County', 'Cambridge',\n",
       "       'Chicago', 'Clark County', 'Columbus', 'Denver', 'Hawaii', 'Kauai',\n",
       "       'Maui', 'Honolulu', 'Jersey City', 'Los Angeles', 'Nashville',\n",
       "       'New Orleans', 'Manhattan', 'Brooklyn', 'Queens', 'Staten Island',\n",
       "       'Bronx', 'Oakland', 'Pacific Grove', 'Portland', 'Providence',\n",
       "       'Washington', 'Newport', 'Bristol', 'Kent', 'Salem',\n",
       "       'San Clara Country', 'San Diego', 'San Francisco',\n",
       "       'San Mateo County', 'Santa Cruz County', 'Seattle',\n",
       "       'Twin Cities MSA', 'Washington D.C.'], dtype=object)"
      ]
     },
     "execution_count": 16,
     "metadata": {},
     "output_type": "execute_result"
    }
   ],
   "source": [
    "df['city'].unique()"
   ]
  },
  {
   "cell_type": "code",
   "execution_count": 17,
   "id": "f481f913",
   "metadata": {},
   "outputs": [],
   "source": [
    "# BAD COODING !\n",
    "def city_coordinates(city, center_coordinates):\n",
    "    #import pdb; pdb.set_trace()\n",
    "    city_lat = []\n",
    "    city_lon = []\n",
    "    city_state = []\n",
    "    for cit in city:\n",
    "        res = center_coordinates[cit]\n",
    "        city_lat.append(res[0])\n",
    "        city_lon.append(res[1])\n",
    "        city_state.append(res[2])\n",
    "    return city_lat, city_lon, city_state\n",
    "\n",
    "df['city_lat'], df['city_lon'], df['city_state'] = city_coordinates(df.city, center_coordinates)"
   ]
  },
  {
   "cell_type": "code",
   "execution_count": 18,
   "id": "0d309fe4",
   "metadata": {},
   "outputs": [
    {
     "data": {
      "text/plain": [
       "Index(['name', 'neighbourhood_group', 'latitude', 'longitude', 'room_type',\n",
       "       'price', 'minimum_nights', 'number_of_reviews', 'last_review',\n",
       "       'reviews_per_month', 'calculated_host_listings_count',\n",
       "       'availability_365', 'city', 'city_lat', 'city_lon', 'city_state'],\n",
       "      dtype='object')"
      ]
     },
     "execution_count": 18,
     "metadata": {},
     "output_type": "execute_result"
    }
   ],
   "source": [
    "df.columns"
   ]
  },
  {
   "cell_type": "code",
   "execution_count": 19,
   "id": "444ad9b9",
   "metadata": {},
   "outputs": [],
   "source": [
    "def haversine_vectorized(df,\n",
    "                         start_lat=\"city_lat\",\n",
    "                         start_lon=\"city_lon\",\n",
    "                         end_lat=\"latitude\",\n",
    "                         end_lon=\"longitude\"):\n",
    "\n",
    "    lat_1_rad, lon_1_rad = np.radians(df[start_lat].astype(float)),\\\n",
    "        np.radians(df[start_lon].astype(float))\n",
    "    lat_2_rad, lon_2_rad = np.radians(df[end_lat].astype(float)),\\\n",
    "        np.radians(df[end_lon].astype(float))\n",
    "    dlon = lon_2_rad - lon_1_rad\n",
    "    dlat = lat_2_rad - lat_1_rad\n",
    "\n",
    "    a = np.sin(dlat / 2.0) ** 2 + np.cos(lat_1_rad) * np.cos(lat_2_rad) *\\\n",
    "        np.sin(dlon / 2.0) ** 2\n",
    "    c = 2 * np.arcsin(np.sqrt(a))\n",
    "    return 6371 * c"
   ]
  },
  {
   "cell_type": "code",
   "execution_count": 20,
   "id": "162834f3",
   "metadata": {},
   "outputs": [],
   "source": [
    "df['distance'] = haversine_vectorized(df)"
   ]
  },
  {
   "cell_type": "code",
   "execution_count": 21,
   "id": "e0154831",
   "metadata": {},
   "outputs": [
    {
     "data": {
      "image/png": "[encoded data removed]",
      "text/plain": [
       "<Figure size 720x576 with 1 Axes>"
      ]
     },
     "metadata": {
      "needs_background": "light"
     },
     "output_type": "display_data"
    }
   ],
   "source": [
    "average_distance = df.groupby('city').mean()['distance'].sort_values(ascending=False)\n",
    "\n",
    "plt.figure(figsize=(10,8))\n",
    "sns.barplot(y = average_distance.index, x=average_distance.values);"
   ]
  },
  {
   "cell_type": "code",
   "execution_count": 22,
   "id": "f8c37984",
   "metadata": {},
   "outputs": [
    {
     "data": {
      "image/png": "[encoded data removed]",
      "text/plain": [
       "<Figure size 1080x360 with 2 Axes>"
      ]
     },
     "metadata": {
      "needs_background": "light"
     },
     "output_type": "display_data"
    }
   ],
   "source": [
    "fig, ax = plt.subplots(1,2, figsize=(15,5))\n",
    "sns.boxplot(data=df, x='distance', ax=ax[0])\n",
    "sns.kdeplot(data=df, x='distance', ax=ax[1]);"
   ]
  },
  {
   "cell_type": "code",
   "execution_count": 23,
   "id": "c4d47c84",
   "metadata": {},
   "outputs": [],
   "source": [
    "dropped_feat = ['last_review','name', 'latitude', 'longitude', 'city_lat', 'city_lon', 'neighbourhood_group']\n",
    "df = df.drop(columns=dropped_feat)"
   ]
  },
  {
   "cell_type": "code",
   "execution_count": 24,
   "id": "d30b528b",
   "metadata": {},
   "outputs": [
    {
     "data": {
      "text/plain": [
       "Index(['room_type', 'price', 'minimum_nights', 'number_of_reviews',\n",
       "       'reviews_per_month', 'calculated_host_listings_count',\n",
       "       'availability_365', 'city', 'city_state', 'distance'],\n",
       "      dtype='object')"
      ]
     },
     "execution_count": 24,
     "metadata": {},
     "output_type": "execute_result"
    }
   ],
   "source": [
    "df.columns"
   ]
  },
  {
   "cell_type": "code",
   "execution_count": 25,
   "id": "06d8f35d",
   "metadata": {
    "scrolled": false
   },
   "outputs": [
    {
     "name": "stdout",
     "output_type": "stream",
     "text": [
      "Keeping 92.52% of the dataset\n"
     ]
    }
   ],
   "source": [
    "# Quantile Selection\n",
    "bounds = [0.0, 0.925]\n",
    "\n",
    "def quantile_selector(df, bounds):\n",
    "    df_reduced = df[df['price'].between(df['price'].quantile(bounds[0]), df['price'].quantile(bounds[1]), inclusive=True)]\n",
    "    print(f'Keeping {round(len(df_reduced)/len(df)*100,2)}% of the dataset')\n",
    "    return df_reduced\n",
    "\n",
    "df = quantile_selector(df, bounds)\n",
    "\n",
    "X = df.drop(columns='price')\n",
    "y = df['price']\n",
    "\n",
    "def NANConvert(x, threshold):\n",
    "    if x>threshold:\n",
    "        return np.nan\n",
    "    return x\n",
    "\n",
    "X['minimum_nights'] = X['minimum_nights'].apply(lambda x: NANConvert(x, 15))\n",
    "\n",
    "\n",
    "# Converting Availability 0 into median value\n",
    "def ValueConvert(x, threshold, value):\n",
    "    if x==threshold:\n",
    "        return value\n",
    "    return x\n",
    "\n",
    "median = round(np.mean(X['availability_365']))\n",
    "\n",
    "X['availability_365'] = X['availability_365'].apply(lambda x: ValueConvert(x, 0, median))\n",
    "\n",
    "\n",
    "def to_month(x):\n",
    "    if x < 30:\n",
    "        return '1'\n",
    "\n",
    "    elif 30 <= x <60:\n",
    "        return '2'\n",
    "    \n",
    "    elif 60 <= x <90:\n",
    "        return '3'\n",
    "    \n",
    "    elif 90 <= x <120:\n",
    "        return '4'\n",
    "    \n",
    "    elif 120 <= x <150:\n",
    "        return '5'\n",
    "    \n",
    "    elif 150 <= x <170:\n",
    "        return '6'\n",
    "    \n",
    "    elif 170 <= x <200:\n",
    "        return '7'\n",
    "    \n",
    "    elif 230 <= x <250:\n",
    "        return '8'\n",
    "    \n",
    "    elif 250 <= x <270:\n",
    "        return '9'\n",
    "    \n",
    "    elif 270 <= x <300:\n",
    "        return '10'\n",
    "    \n",
    "    elif 300 <= x <330:\n",
    "        return '11'\n",
    "    \n",
    "    else:\n",
    "        return '12'\n",
    "    \n",
    "X['availability_365'] = X['availability_365'].apply(to_month)"
   ]
  },
  {
   "cell_type": "code",
   "execution_count": 26,
   "id": "7299b9f4",
   "metadata": {},
   "outputs": [
    {
     "data": {
      "text/plain": [
       "209125"
      ]
     },
     "execution_count": 26,
     "metadata": {},
     "output_type": "execute_result"
    }
   ],
   "source": [
    "len(df)"
   ]
  },
  {
   "cell_type": "code",
   "execution_count": 27,
   "id": "2f5ec205",
   "metadata": {},
   "outputs": [
    {
     "data": {
      "text/plain": [
       "int64      5\n",
       "object     3\n",
       "float64    2\n",
       "dtype: int64"
      ]
     },
     "execution_count": 27,
     "metadata": {},
     "output_type": "execute_result"
    }
   ],
   "source": [
    "df.dtypes.value_counts()"
   ]
  },
  {
   "cell_type": "code",
   "execution_count": 30,
   "id": "637b19cb",
   "metadata": {},
   "outputs": [
    {
     "name": "stdout",
     "output_type": "stream",
     "text": [
      "[[-0.5         3.14634146  0.10144928 ...  0.          0.\n",
      "   0.        ]\n",
      " [-0.5         1.95121951 -0.13768116 ...  0.          0.\n",
      "   0.        ]\n",
      " [-0.5         6.29268293  1.00724638 ...  0.          0.\n",
      "   0.        ]\n",
      " ...\n",
      " [ 0.         -0.2195122   0.         ...  0.          0.\n",
      "   0.        ]\n",
      " [-0.5        -0.2195122   0.         ...  0.          0.\n",
      "   0.        ]\n",
      " [ 2.5        -0.2195122   0.         ...  0.          0.\n",
      "   0.        ]]\n"
     ]
    },
    {
     "data": {
      "text/html": [
       "<style>#sk-ce1352fb-b208-4550-af98-31556b2633f6 {color: black;background-color: white;}#sk-ce1352fb-b208-4550-af98-31556b2633f6 pre{padding: 0;}#sk-ce1352fb-b208-4550-af98-31556b2633f6 div.sk-toggleable {background-color: white;}#sk-ce1352fb-b208-4550-af98-31556b2633f6 label.sk-toggleable__label {cursor: pointer;display: block;width: 100%;margin-bottom: 0;padding: 0.2em 0.3em;box-sizing: border-box;text-align: center;}#sk-ce1352fb-b208-4550-af98-31556b2633f6 div.sk-toggleable__content {max-height: 0;max-width: 0;overflow: hidden;text-align: left;background-color: #f0f8ff;}#sk-ce1352fb-b208-4550-af98-31556b2633f6 div.sk-toggleable__content pre {margin: 0.2em;color: black;border-radius: 0.25em;background-color: #f0f8ff;}#sk-ce1352fb-b208-4550-af98-31556b2633f6 input.sk-toggleable__control:checked~div.sk-toggleable__content {max-height: 200px;max-width: 100%;overflow: auto;}#sk-ce1352fb-b208-4550-af98-31556b2633f6 div.sk-estimator input.sk-toggleable__control:checked~label.sk-toggleable__label {background-color: #d4ebff;}#sk-ce1352fb-b208-4550-af98-31556b2633f6 div.sk-label input.sk-toggleable__control:checked~label.sk-toggleable__label {background-color: #d4ebff;}#sk-ce1352fb-b208-4550-af98-31556b2633f6 input.sk-hidden--visually {border: 0;clip: rect(1px 1px 1px 1px);clip: rect(1px, 1px, 1px, 1px);height: 1px;margin: -1px;overflow: hidden;padding: 0;position: absolute;width: 1px;}#sk-ce1352fb-b208-4550-af98-31556b2633f6 div.sk-estimator {font-family: monospace;background-color: #f0f8ff;margin: 0.25em 0.25em;border: 1px dotted black;border-radius: 0.25em;box-sizing: border-box;}#sk-ce1352fb-b208-4550-af98-31556b2633f6 div.sk-estimator:hover {background-color: #d4ebff;}#sk-ce1352fb-b208-4550-af98-31556b2633f6 div.sk-parallel-item::after {content: \"\";width: 100%;border-bottom: 1px solid gray;flex-grow: 1;}#sk-ce1352fb-b208-4550-af98-31556b2633f6 div.sk-label:hover label.sk-toggleable__label {background-color: #d4ebff;}#sk-ce1352fb-b208-4550-af98-31556b2633f6 div.sk-serial::before {content: \"\";position: absolute;border-left: 1px solid gray;box-sizing: border-box;top: 2em;bottom: 0;left: 50%;}#sk-ce1352fb-b208-4550-af98-31556b2633f6 div.sk-serial {display: flex;flex-direction: column;align-items: center;background-color: white;}#sk-ce1352fb-b208-4550-af98-31556b2633f6 div.sk-item {z-index: 1;}#sk-ce1352fb-b208-4550-af98-31556b2633f6 div.sk-parallel {display: flex;align-items: stretch;justify-content: center;background-color: white;}#sk-ce1352fb-b208-4550-af98-31556b2633f6 div.sk-parallel-item {display: flex;flex-direction: column;position: relative;background-color: white;}#sk-ce1352fb-b208-4550-af98-31556b2633f6 div.sk-parallel-item:first-child::after {align-self: flex-end;width: 50%;}#sk-ce1352fb-b208-4550-af98-31556b2633f6 div.sk-parallel-item:last-child::after {align-self: flex-start;width: 50%;}#sk-ce1352fb-b208-4550-af98-31556b2633f6 div.sk-parallel-item:only-child::after {width: 0;}#sk-ce1352fb-b208-4550-af98-31556b2633f6 div.sk-dashed-wrapped {border: 1px dashed gray;margin: 0.2em;box-sizing: border-box;padding-bottom: 0.1em;background-color: white;position: relative;}#sk-ce1352fb-b208-4550-af98-31556b2633f6 div.sk-label label {font-family: monospace;font-weight: bold;background-color: white;display: inline-block;line-height: 1.2em;}#sk-ce1352fb-b208-4550-af98-31556b2633f6 div.sk-label-container {position: relative;z-index: 2;text-align: center;}#sk-ce1352fb-b208-4550-af98-31556b2633f6 div.sk-container {display: inline-block;position: relative;}</style><div id=\"sk-ce1352fb-b208-4550-af98-31556b2633f6\" class\"sk-top-container\"><div class=\"sk-container\"><div class=\"sk-item sk-dashed-wrapped\"><div class=\"sk-label-container\"><div class=\"sk-label sk-toggleable\"><input class=\"sk-toggleable__control sk-hidden--visually\" id=\"97f42345-a461-43be-9267-3354061bb9d2\" type=\"checkbox\" ><label class=\"sk-toggleable__label\" for=\"97f42345-a461-43be-9267-3354061bb9d2\">Pipeline</label><div class=\"sk-toggleable__content\"><pre>Pipeline(steps=[('preprocessing',\n",
       "                 ColumnTransformer(transformers=[('num_encoder',\n",
       "                                                  Pipeline(steps=[('simple_imputer',\n",
       "                                                                   SimpleImputer(fill_value=1,\n",
       "                                                                                 strategy='constant')),\n",
       "                                                                  ('rob_scaler',\n",
       "                                                                   RobustScaler())]),\n",
       "                                                  <sklearn.compose._column_transformer.make_column_selector object at 0x7fd1f7ac0ee0>),\n",
       "                                                 ('cat_encoder',\n",
       "                                                  Pipeline(steps=[('simple_imputer',\n",
       "                                                                   SimpleImputer(fill_value='NA',\n",
       "                                                                                 strategy='constant')),\n",
       "                                                                  ('OneHotEncoder',\n",
       "                                                                   OneHotEncoder(handle_unknown='ignore',\n",
       "                                                                                 sparse=False))]),\n",
       "                                                  <sklearn.compose._column_transformer.make_column_selector object at 0x7fd1f7ac0d60>)])),\n",
       "                ('model', Ridge())])</pre></div></div></div><div class=\"sk-serial\"><div class=\"sk-item sk-dashed-wrapped\"><div class=\"sk-label-container\"><div class=\"sk-label sk-toggleable\"><input class=\"sk-toggleable__control sk-hidden--visually\" id=\"2e128e04-89e0-4886-b923-50ade5276bc4\" type=\"checkbox\" ><label class=\"sk-toggleable__label\" for=\"2e128e04-89e0-4886-b923-50ade5276bc4\">preprocessing: ColumnTransformer</label><div class=\"sk-toggleable__content\"><pre>ColumnTransformer(transformers=[('num_encoder',\n",
       "                                 Pipeline(steps=[('simple_imputer',\n",
       "                                                  SimpleImputer(fill_value=1,\n",
       "                                                                strategy='constant')),\n",
       "                                                 ('rob_scaler',\n",
       "                                                  RobustScaler())]),\n",
       "                                 <sklearn.compose._column_transformer.make_column_selector object at 0x7fd1f7ac0ee0>),\n",
       "                                ('cat_encoder',\n",
       "                                 Pipeline(steps=[('simple_imputer',\n",
       "                                                  SimpleImputer(fill_value='NA',\n",
       "                                                                strategy='constant')),\n",
       "                                                 ('OneHotEncoder',\n",
       "                                                  OneHotEncoder(handle_unknown='ignore',\n",
       "                                                                sparse=False))]),\n",
       "                                 <sklearn.compose._column_transformer.make_column_selector object at 0x7fd1f7ac0d60>)])</pre></div></div></div><div class=\"sk-parallel\"><div class=\"sk-parallel-item\"><div class=\"sk-item\"><div class=\"sk-label-container\"><div class=\"sk-label sk-toggleable\"><input class=\"sk-toggleable__control sk-hidden--visually\" id=\"16c16cc0-8c12-4739-aca1-c84cb929eb17\" type=\"checkbox\" ><label class=\"sk-toggleable__label\" for=\"16c16cc0-8c12-4739-aca1-c84cb929eb17\">num_encoder</label><div class=\"sk-toggleable__content\"><pre><sklearn.compose._column_transformer.make_column_selector object at 0x7fd1f7ac0ee0></pre></div></div></div><div class=\"sk-serial\"><div class=\"sk-item\"><div class=\"sk-serial\"><div class=\"sk-item\"><div class=\"sk-estimator sk-toggleable\"><input class=\"sk-toggleable__control sk-hidden--visually\" id=\"69280566-05d5-4f6e-9438-9d811511666b\" type=\"checkbox\" ><label class=\"sk-toggleable__label\" for=\"69280566-05d5-4f6e-9438-9d811511666b\">SimpleImputer</label><div class=\"sk-toggleable__content\"><pre>SimpleImputer(fill_value=1, strategy='constant')</pre></div></div></div><div class=\"sk-item\"><div class=\"sk-estimator sk-toggleable\"><input class=\"sk-toggleable__control sk-hidden--visually\" id=\"034634ad-8c4b-4d14-a6e1-7182fac756f6\" type=\"checkbox\" ><label class=\"sk-toggleable__label\" for=\"034634ad-8c4b-4d14-a6e1-7182fac756f6\">RobustScaler</label><div class=\"sk-toggleable__content\"><pre>RobustScaler()</pre></div></div></div></div></div></div></div></div><div class=\"sk-parallel-item\"><div class=\"sk-item\"><div class=\"sk-label-container\"><div class=\"sk-label sk-toggleable\"><input class=\"sk-toggleable__control sk-hidden--visually\" id=\"3d9af94a-6dc9-4775-a9a2-53ac4255668d\" type=\"checkbox\" ><label class=\"sk-toggleable__label\" for=\"3d9af94a-6dc9-4775-a9a2-53ac4255668d\">cat_encoder</label><div class=\"sk-toggleable__content\"><pre><sklearn.compose._column_transformer.make_column_selector object at 0x7fd1f7ac0d60></pre></div></div></div><div class=\"sk-serial\"><div class=\"sk-item\"><div class=\"sk-serial\"><div class=\"sk-item\"><div class=\"sk-estimator sk-toggleable\"><input class=\"sk-toggleable__control sk-hidden--visually\" id=\"24a80d80-0ddf-4f71-8b98-2e76e9514e92\" type=\"checkbox\" ><label class=\"sk-toggleable__label\" for=\"24a80d80-0ddf-4f71-8b98-2e76e9514e92\">SimpleImputer</label><div class=\"sk-toggleable__content\"><pre>SimpleImputer(fill_value='NA', strategy='constant')</pre></div></div></div><div class=\"sk-item\"><div class=\"sk-estimator sk-toggleable\"><input class=\"sk-toggleable__control sk-hidden--visually\" id=\"2e61a6db-b4d4-4b55-bde4-b11c8dcbf3e8\" type=\"checkbox\" ><label class=\"sk-toggleable__label\" for=\"2e61a6db-b4d4-4b55-bde4-b11c8dcbf3e8\">OneHotEncoder</label><div class=\"sk-toggleable__content\"><pre>OneHotEncoder(handle_unknown='ignore', sparse=False)</pre></div></div></div></div></div></div></div></div></div></div><div class=\"sk-item\"><div class=\"sk-estimator sk-toggleable\"><input class=\"sk-toggleable__control sk-hidden--visually\" id=\"1d2e4131-8526-422e-8d05-650964155e97\" type=\"checkbox\" ><label class=\"sk-toggleable__label\" for=\"1d2e4131-8526-422e-8d05-650964155e97\">Ridge</label><div class=\"sk-toggleable__content\"><pre>Ridge()</pre></div></div></div></div></div></div></div>"
      ],
      "text/plain": [
       "Pipeline(steps=[('preprocessing',\n",
       "                 ColumnTransformer(transformers=[('num_encoder',\n",
       "                                                  Pipeline(steps=[('simple_imputer',\n",
       "                                                                   SimpleImputer(fill_value=1,\n",
       "                                                                                 strategy='constant')),\n",
       "                                                                  ('rob_scaler',\n",
       "                                                                   RobustScaler())]),\n",
       "                                                  <sklearn.compose._column_transformer.make_column_selector object at 0x7fd1f7ac0ee0>),\n",
       "                                                 ('cat_encoder',\n",
       "                                                  Pipeline(steps=[('simple_imputer',\n",
       "                                                                   SimpleImputer(fill_value='NA',\n",
       "                                                                                 strategy='constant')),\n",
       "                                                                  ('OneHotEncoder',\n",
       "                                                                   OneHotEncoder(handle_unknown='ignore',\n",
       "                                                                                 sparse=False))]),\n",
       "                                                  <sklearn.compose._column_transformer.make_column_selector object at 0x7fd1f7ac0d60>)])),\n",
       "                ('model', Ridge())])"
      ]
     },
     "execution_count": 30,
     "metadata": {},
     "output_type": "execute_result"
    }
   ],
   "source": [
    "from sklearn.svm import SVR\n",
    "\n",
    "num_encoder = Pipeline([('simple_imputer', SimpleImputer(strategy = 'constant', fill_value=1)),\n",
    "                        ('rob_scaler', RobustScaler())])\n",
    "\n",
    "cat_encoder = Pipeline([('simple_imputer', SimpleImputer(strategy = 'constant', fill_value='NA')),\n",
    "                        ('OneHotEncoder', OneHotEncoder(sparse=False, handle_unknown='ignore'))])\n",
    "\n",
    "\n",
    "preproc = ColumnTransformer([('num_encoder', num_encoder, make_column_selector(dtype_include=['int64','float64'])),\n",
    "                             ('cat_encoder', cat_encoder , make_column_selector(dtype_include=['object']))\n",
    "                              ])\n",
    "\n",
    "baseline_pipe = Pipeline([('preprocessing', preproc),\n",
    "                          ('model', Ridge())\n",
    "                        ])\n",
    "baseline_pipe"
   ]
  },
  {
   "cell_type": "code",
   "execution_count": 29,
   "id": "d5ac5c5a",
   "metadata": {},
   "outputs": [
    {
     "data": {
      "text/plain": [
       "0.22335561204087345"
      ]
     },
     "execution_count": 29,
     "metadata": {},
     "output_type": "execute_result"
    }
   ],
   "source": [
    "baseline_score = cross_val_score(baseline_pipe, X, y, cv=5).mean()\n",
    "baseline_score"
   ]
  },
  {
   "cell_type": "markdown",
   "id": "e47eebc3",
   "metadata": {
    "heading_collapsed": true
   },
   "source": [
    "#### GeoLoc API (https://positionstack.com)"
   ]
  },
  {
   "cell_type": "code",
   "execution_count": null,
   "id": "6df91451",
   "metadata": {
    "hidden": true
   },
   "outputs": [],
   "source": [
    "# ACCESS_KEY = '14a8460a20e5084bbcc2bb9a623849e7'\n",
    "\n",
    "# geo = {'data': {'':{'lat': [], 'lon': [], 'region': []}}}\n",
    "# lat = []\n",
    "# lon = []\n",
    "# region = []\n",
    "\n",
    "# for city in df.city.unique():\n",
    "#     url = f'http://api.positionstack.com/v1/forward?access_key={ACCESS_KEY}&query={city}'\n",
    "#     r = requests.get(url).json()\n",
    "    \n",
    "#     geo['data'].update({f'{city}':{'lat': r['data'][0]['latitude'], \n",
    "#                                    'lon': r['data'][0]['longitude'], \n",
    "#                                    'region': r['data'][0]['region']}})\n",
    "    \n",
    "#     lat.append(r['data'][0]['latitude'])\n",
    "#     lon.append(r['data'][0]['longitude'])\n",
    "#     region.append(r['data'][0]['region']) "
   ]
  },
  {
   "cell_type": "code",
   "execution_count": null,
   "id": "3b1513f7",
   "metadata": {
    "hidden": true
   },
   "outputs": [],
   "source": [
    "# # Asheville Region == None\n",
    "# region[0]='North Carolina' \n",
    "\n",
    "# # Santa Clara Contry misspelled (County) \n",
    "# region[20] = 'California'\n",
    "\n",
    "# # Cambridge USA not UK\n",
    "# region[4] = 'Massachusetts'"
   ]
  },
  {
   "cell_type": "code",
   "execution_count": null,
   "id": "6178e84b",
   "metadata": {
    "hidden": true
   },
   "outputs": [],
   "source": []
  },
  {
   "cell_type": "markdown",
   "id": "21dee3bd",
   "metadata": {
    "heading_collapsed": true
   },
   "source": [
    "### Number of Tourists and Population"
   ]
  },
  {
   "cell_type": "code",
   "execution_count": null,
   "id": "cf458806",
   "metadata": {
    "hidden": true
   },
   "outputs": [],
   "source": []
  },
  {
   "cell_type": "markdown",
   "id": "72f6434c",
   "metadata": {
    "heading_collapsed": true
   },
   "source": [
    "### Number of times metionned location (Google Stats)"
   ]
  },
  {
   "cell_type": "code",
   "execution_count": null,
   "id": "6334ffe7",
   "metadata": {
    "hidden": true
   },
   "outputs": [],
   "source": []
  },
  {
   "cell_type": "markdown",
   "id": "9507250c",
   "metadata": {
    "heading_collapsed": true
   },
   "source": [
    "### `name` as a descrptive feature? How?"
   ]
  },
  {
   "cell_type": "code",
   "execution_count": null,
   "id": "d7ae9caa",
   "metadata": {
    "hidden": true
   },
   "outputs": [],
   "source": []
  },
  {
   "cell_type": "markdown",
   "id": "5179ab7d",
   "metadata": {
    "heading_collapsed": true
   },
   "source": [
    "### Last_activity Feature"
   ]
  },
  {
   "cell_type": "code",
   "execution_count": null,
   "id": "c2e058e3",
   "metadata": {
    "hidden": true
   },
   "outputs": [],
   "source": []
  }
 ],
 "metadata": {
  "kernelspec": {
   "display_name": "Python 3",
   "language": "python",
   "name": "python3"
  },
  "language_info": {
   "codemirror_mode": {
    "name": "ipython",
    "version": 3
   },
   "file_extension": ".py",
   "mimetype": "text/x-python",
   "name": "python",
   "nbconvert_exporter": "python",
   "pygments_lexer": "ipython3",
   "version": "3.8.6"
  },
  "toc": {
   "base_numbering": 1,
   "nav_menu": {},
   "number_sections": true,
   "sideBar": true,
   "skip_h1_title": false,
   "title_cell": "Table of Contents",
   "title_sidebar": "Contents",
   "toc_cell": false,
   "toc_position": {},
   "toc_section_display": true,
   "toc_window_display": false
  }
 },
 "nbformat": 4,
 "nbformat_minor": 5
}
